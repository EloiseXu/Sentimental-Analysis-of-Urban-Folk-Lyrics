{
 "cells": [
  {
   "cell_type": "code",
   "execution_count": 1,
   "metadata": {},
   "outputs": [],
   "source": [
    "import requests\n",
    "import json\n",
    "import urllib\n",
    "import re\n",
    "from bs4 import BeautifulSoup"
   ]
  },
  {
   "cell_type": "code",
   "execution_count": 2,
   "metadata": {},
   "outputs": [],
   "source": [
    "def download_by_musicId(music_id):\n",
    "    url = \"http://music.163.com/api/song/lyric?\" + \\\n",
    "        \"id=\" + str(music_id) + \"&lv=1&kv=1&tv=-1\"\n",
    "    result = requests.get(url)\n",
    "    json_obj = result.text\n",
    "\n",
    "    json_obj = json.loads(json_obj)\n",
    "    final_lyric = \"\"\n",
    "    if( \"lrc\" in json_obj):\n",
    "        inital_lyric = json_obj['lrc']['lyric']\n",
    "        regex = re.compile(r'\\[.*\\]')\n",
    "        final_lyric = re.sub(regex,'',inital_lyric).strip()\n",
    "\n",
    "    return final_lyric"
   ]
  },
  {
   "cell_type": "code",
   "execution_count": 3,
   "metadata": {},
   "outputs": [],
   "source": [
    "def getSongId_by_playList(playlist_id):\n",
    "    url = \"http://music.163.com/api/playlist/detail?id=\" + str(playlist_id) + \"&updateTime=-1\"\n",
    "    header = {\n",
    "        'Host': 'music.163.com',\n",
    "        'Refer': 'https://music.163.com',\n",
    "        'User-Agent': 'Mozilla/5.0 (Windows NT 6.3; Win64; x64) AppleWebKit/537.36 (KHTML, like Gecko) Chrome/61.0.3163.100 Safari/537.36',\n",
    "        'Content-Type': 'application/x-www-form-urlencoded',\n",
    "        'Accept': '*/*',\n",
    "        'Accept-Encoding': 'gzip, deflate',\n",
    "        'Accept-Language': 'zh-CN,zh;q=0.8',\n",
    "        'Cookie': 'os=pc; deviceId=B55AC773505E5606F9D355A1A15553CE78B89FC7D8CB8A157B84; osver=Microsoft-Windows-8-Professional-build-9200-64bit; appver=1.5.0.75771; usertrack=ezq0alR0yqJMJC0dr9tEAg==; MUSIC_A=088a57b553bd8cef58487f9d01ae'\n",
    "    }\n",
    "    res = requests.get(url,headers = header)\n",
    "    res = res.text\n",
    "    # 将网页转化为xml\n",
    "    soup = BeautifulSoup(res,'lxml')\n",
    "    song = soup.p.string\n",
    "    songlist = json.loads(song)\n",
    "    songlist = songlist[\"result\"][\"tracks\"]\n",
    "\n",
    "    return songlist"
   ]
  },
  {
   "cell_type": "code",
   "execution_count": 4,
   "metadata": {},
   "outputs": [],
   "source": [
    "def ConvertStrToFile(filename,str):\n",
    "    with open('songlist_rock/'+filename+\".txt\",'w') as f:\n",
    "        f.write(str)"
   ]
  },
  {
   "cell_type": "code",
   "execution_count": 5,
   "metadata": {},
   "outputs": [
    {
     "name": "stdout",
     "output_type": "stream",
     "text": [
      "写入文件成功\n"
     ]
    }
   ],
   "source": [
    "def getAllSongByplaylist(playlist_id):\n",
    "    songlist = getSongId_by_playList(playlist_id)\n",
    "    for item in songlist:\n",
    "        try:\n",
    "            ConvertStrToFile(item[\"name\"],download_by_musicId(item[\"id\"]))\n",
    "        except:\n",
    "            continue\n",
    "        #print(item[\"name\"])\n",
    "    print(\"写入文件成功\")\n",
    "\n",
    "getAllSongByplaylist(700756694)"
   ]
  },
  {
   "cell_type": "code",
   "execution_count": null,
   "metadata": {},
   "outputs": [],
   "source": []
  }
 ],
 "metadata": {
  "kernelspec": {
   "display_name": "Python 3",
   "language": "python",
   "name": "python3"
  },
  "language_info": {
   "codemirror_mode": {
    "name": "ipython",
    "version": 3
   },
   "file_extension": ".py",
   "mimetype": "text/x-python",
   "name": "python",
   "nbconvert_exporter": "python",
   "pygments_lexer": "ipython3",
   "version": "3.6.8"
  }
 },
 "nbformat": 4,
 "nbformat_minor": 2
}
